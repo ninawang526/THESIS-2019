{
 "cells": [
  {
   "cell_type": "code",
   "execution_count": 1,
   "metadata": {},
   "outputs": [],
   "source": [
    "import pickle\n",
    "import datetime\n",
    "\n",
    "import THESIS2019.utils.to_lexicon as lex\n",
    "from THESIS2019.utils.base_words import *\n",
    "\n",
    "import matplotlib.pyplot as plt; plt.rcdefaults()\n",
    "import numpy as np\n",
    "import matplotlib.pyplot as plt\n",
    "\n",
    "import dit\n",
    "from dit.divergences import jensen_shannon_divergence"
   ]
  },
  {
   "cell_type": "code",
   "execution_count": 18,
   "metadata": {},
   "outputs": [
    {
     "name": "stdout",
     "output_type": "stream",
     "text": [
      "275\n"
     ]
    }
   ],
   "source": [
    "# notebook to find consistency over time of topic models using LDA\n",
    "\n",
    "path = \"../example_data/NYT-OPINION2012-2013-processed/\"\n",
    "start = datetime.datetime(2012, 6, 1)\n",
    "end = datetime.datetime(2013, 7, 1)\n",
    "articles = lex.get_articles_from_filepath(path,start,end)\n",
    "print (len(articles))"
   ]
  },
  {
   "cell_type": "code",
   "execution_count": 19,
   "metadata": {},
   "outputs": [
    {
     "name": "stdout",
     "output_type": "stream",
     "text": [
      "one\n",
      "two\n",
      "getting model\n"
     ]
    }
   ],
   "source": [
    "articles, dictionary, corpus, model = lex.topic_model(articles, LEFT_WORDS+RIGHT_WORDS,num_topics=20)\n"
   ]
  },
  {
   "cell_type": "code",
   "execution_count": 47,
   "metadata": {},
   "outputs": [],
   "source": [
    "# with open(\"prelim_model2012.pkl\",\"wb\") as f:\n",
    "#     pickle.dump(model, f)\n",
    "# with open(\"prelim_articles2012.pkl\",\"wb\") as f:\n",
    "#     pickle.dump(articles, f)\n",
    "# with open(\"prelim_dictionary2012.pkl\",\"wb\") as f:\n",
    "#     pickle.dump(dictionary, f)\n",
    "# with open(\"prelim_corpus2012.pkl\",\"wb\") as f:\n",
    "#     pickle.dump(corpus, f)"
   ]
  },
  {
   "cell_type": "code",
   "execution_count": 83,
   "metadata": {},
   "outputs": [],
   "source": [
    "# LOAD\n",
    "# with open(\"../file_transfer/both_tm.pkl\",\"rb\") as f:\n",
    "#     model = pickle.load(f)\n",
    "# with open(\"../file_transfer/both_dict.pkl\",\"rb\") as f:\n",
    "#     dictionary = pickle.load(f)\n",
    "# with open(\"../file_transfer/both_articles.pkl\",\"rb\") as f:\n",
    "#     articles = pickle.load(f)\n",
    "# with open(\"../file_transfer/both_corpus.pkl\",\"rb\") as f:\n",
    "#     corpus = pickle.load(f)\n",
    "\n",
    "# LOAD\n",
    "with open(\"prelim_model2012.pkl\",\"rb\") as f:\n",
    "    model = pickle.load(f)\n",
    "with open(\"prelim_dictionary2012.pkl\",\"rb\") as f:\n",
    "    dictionary = pickle.load(f)\n",
    "with open(\"prelim_articles2012.pkl\",\"rb\") as f:\n",
    "    articles = pickle.load(f)\n",
    "with open(\"prelim_corpus2012.pkl\",\"rb\") as f:\n",
    "    corpus = pickle.load(f)"
   ]
  },
  {
   "cell_type": "code",
   "execution_count": 84,
   "metadata": {
    "scrolled": true
   },
   "outputs": [
    {
     "name": "stdout",
     "output_type": "stream",
     "text": [
      "topic 0: poll,  polit,  govern,  win,  peopl,  conserv,  campaign,  american,  school,  nation,  candid,  use,  vote,  state,  make,  kenya,  believ,  come,  even,  lead,  voter,  econom,  speech,  thing,  conservat\n",
      "\n",
      "\n",
      "topic 1: state,  govern,  get,  year,  work,  make,  brook,  american,  say,  take,  public,  rais,  parti,  campaign,  minimum_wage,  elect,  right,  world,  committe,  editor_david,  think,  hous,  chang,  leader,  fund\n",
      "\n",
      "\n",
      "topic 2: silver,  say,  also,  islam,  win,  public,  favor,  peopl,  critic,  poll,  polit,  wager,  nate,  point,  work,  race,  take,  recent,  countri,  malian,  scarborough,  state,  even,  note,  mccarthi\n",
      "\n",
      "\n",
      "topic 3: health_care,  insur,  editor,  gun,  health,  cost,  health_insur,  provid,  peopl,  rather,  douthat,  vote,  background_check,  care,  benefit,  physician,  afford,  ross,  boston,  coverag,  medic,  shame,  associ,  keep,  gifford\n",
      "\n",
      "\n",
      "topic 4: women,  abort,  militari,  campaign,  drone,  navi,  even,  china,  number,  method,  life,  power,  understand,  also,  messag,  pilot,  war,  end,  data,  right,  american,  way,  carrier,  land,  gray\n",
      "\n",
      "\n",
      "topic 5: encompass,  diplomaci,  devic,  deterr,  deck,  cyber,  crew,  computer,  collis,  carrier,  breed,  emit,  bonin,  attain,  anywher,  allianc,  aircraft,  subpoena,  spew,  smith,  shirley,  sheldon,  encrypt,  autonom,  encircl\n",
      "\n",
      "\n",
      "topic 6: year,  candid,  ayanbadejo,  system,  money,  kurdish,  say,  spend,  better,  govern,  act,  also,  parti,  rais,  donat,  compani,  give,  state,  make,  match,  turkish,  includ,  first,  public,  support\n",
      "\n",
      "\n",
      "topic 7: administr,  say,  war,  law,  citizen,  author,  ga,  govern,  citi,  militari,  case,  american,  marathon,  court,  make,  bloomberg,  forc,  use,  lawyer,  polit,  charg,  back,  mani,  methan,  also\n",
      "\n",
      "\n",
      "topic 8: say,  israel,  make,  year,  come,  iran,  gaza,  gay,  peac,  go,  convent,  live,  get,  emiss,  war,  isra,  way,  airlin,  netanyahu,  right,  see,  know,  palestinian,  speech,  polit\n",
      "\n",
      "\n",
      "topic 9: say,  vote,  women,  campaign,  spend,  like,  much,  even,  peopl,  countri,  make,  get,  take,  differ,  media,  mani,  auster,  social_media,  first,  report,  also,  econom,  white,  economi,  polit\n",
      "\n",
      "\n",
      "topic 10: peopl,  use,  percent,  vote,  polici,  american,  mani,  state,  way,  make,  economist,  ballot,  voter,  law,  govern,  famili,  report,  benefit,  also,  even,  marriag,  nation,  econom,  ask,  say\n",
      "\n",
      "\n",
      "topic 11: say,  american,  polici,  make,  forc,  parti,  end,  get,  take,  way,  law,  mani,  choic,  first,  countri,  administr,  secur,  nation,  point,  govern,  idea,  reform,  control,  far,  troop\n",
      "\n",
      "\n",
      "topic 12: simon,  go,  say,  conserv,  make,  reader,  hear,  american,  world,  comment,  get,  secur,  come,  twitter,  valu,  south,  film,  think,  column,  need,  way,  congress,  america,  administr,  leav\n",
      "\n",
      "\n",
      "topic 13: encompass,  diplomaci,  devic,  deterr,  deck,  cyber,  crew,  computer,  collis,  carrier,  breed,  emit,  bonin,  attain,  anywher,  allianc,  aircraft,  subpoena,  spew,  smith,  shirley,  sheldon,  encrypt,  autonom,  encircl\n",
      "\n",
      "\n",
      "topic 14: barden,  say,  china,  campaign,  even,  least,  fact,  peopl,  daniel,  call,  make,  famili,  nation,  attack,  washington,  gun,  commun,  polit,  countri,  right,  still,  kind,  never,  fool,  ad\n",
      "\n",
      "\n",
      "topic 15: gun,  tax,  incom,  research,  deal,  tax_rat,  invest,  death,  top,  revenu,  make,  south_korea,  public_health,  rais,  rate,  percent,  end,  nuclear_fuel,  privat_equiti,  gun_violenc,  loophol,  nuclear,  base,  fuel,  american\n",
      "\n",
      "\n",
      "topic 16: say,  law,  suicid,  verrilli,  case,  chemic,  argument,  immigr,  justic,  use,  find,  war,  lawyer,  gun,  suprem_court,  requir,  argu,  make,  gener,  write,  american,  peopl,  much,  polit,  govern\n",
      "\n",
      "\n",
      "topic 17: parti,  polici,  say,  polit,  conserv,  voter,  support,  get,  issu,  vote,  state,  candid,  run,  right,  tax,  want,  countri,  year,  elect,  make,  peopl,  even,  american,  think,  look\n",
      "\n",
      "\n",
      "topic 18: vote,  tax,  percent,  voter,  list,  make,  heritag,  peopl,  say,  mani,  govern,  forb,  poll,  state,  even,  right,  much,  tell,  immigr,  reform,  leav,  get,  public,  capit_gain,  think\n",
      "\n",
      "\n",
      "topic 19: gun,  emot,  movement,  peopl,  work,  right,  guy,  drive,  state,  world,  even,  get,  american,  wake,  issu,  stop,  argument,  need,  talk,  fenc,  point,  permit,  reason,  passion,  kill\n",
      "\n",
      "\n"
     ]
    }
   ],
   "source": [
    "topics = model.show_topics(num_topics=-1, num_words=25, log=False, formatted=False)\n",
    "for idx, topic in topics:\n",
    "    print (\"topic \" + str(idx) + \": \" + (\",  \").join([str(t[0]) for t in topic]))\n",
    "    print (\"\\n\")\n"
   ]
  },
  {
   "cell_type": "code",
   "execution_count": 85,
   "metadata": {
    "scrolled": true
   },
   "outputs": [
    {
     "name": "stdout",
     "output_type": "stream",
     "text": [
      "<NewsArticle.NewsArticle object at 0x120041978>\n",
      "\n",
      "[(10, 0.30085468), (17, 0.6973375)]\n"
     ]
    }
   ],
   "source": [
    "# select document\n",
    "def to_words(bow):\n",
    "    wds = []\n",
    "    for idx,c in bow:\n",
    "        wds.append(dictionary[idx])\n",
    "    return wds\n",
    "        \n",
    "topicn = 4\n",
    "\n",
    "print(articles[topicn])\n",
    "print()\n",
    "\n",
    "print(model[corpus[topicn]])"
   ]
  },
  {
   "cell_type": "code",
   "execution_count": 86,
   "metadata": {},
   "outputs": [
    {
     "data": {
      "image/png": "[encoded data removed]",
      "text/plain": [
       "<Figure size 432x288 with 1 Axes>"
      ]
     },
     "metadata": {
      "needs_background": "light"
     },
     "output_type": "display_data"
    }
   ],
   "source": [
    "# aggregate topic distribution for a document set\n",
    "from collections import defaultdict\n",
    "\n",
    "\n",
    "def total_topic_distribution(model, corpus):\n",
    "    dist = defaultdict(lambda:0)\n",
    "    for doc in corpus:\n",
    "        topics = model[doc]\n",
    "        for topic,prob in topics:\n",
    "            dist[topic] += prob    \n",
    "    # normalize\n",
    "    s = sum(dist.values())\n",
    "    for d in dist:\n",
    "        dist[d] /= s\n",
    "    return dist\n",
    "\n",
    "def graph_distribution(dist):\n",
    "    x, y = dist.keys(), dist.values()\n",
    "    plt.bar(x, y, alpha=0.5)\n",
    "    plt.xlabel('Topic number')\n",
    "    plt.ylabel('Proportion in document set')\n",
    "    plt.title('Topic distribution')\n",
    "\n",
    "    plt.show()\n",
    "\n",
    "        \n",
    "dist = total_topic_distribution(model, corpus)\n",
    "graph_distribution(dist)"
   ]
  },
  {
   "cell_type": "code",
   "execution_count": 87,
   "metadata": {},
   "outputs": [
    {
     "name": "stdout",
     "output_type": "stream",
     "text": [
      "[(17, 0.12232645900934663), (10, 0.09685202043773171), (9, 0.08521059431191542), (8, 0.07922038577902961), (1, 0.07631229055175057), (18, 0.07233137246502096), (0, 0.06744048402329003), (11, 0.06156104450464077), (7, 0.05347771804757382), (16, 0.048235943373990446), (6, 0.0457007366730892), (12, 0.04144095506430083), (2, 0.0393151336263907), (15, 0.032279188222924235), (4, 0.025048673693527243), (14, 0.022664895862160007), (3, 0.015708258806317314), (19, 0.014873845547000499)]\n"
     ]
    }
   ],
   "source": [
    "dist_list = [(k,v) for k,v in dist.items()]\n",
    "sorted_dist = sorted(dist_list, key=lambda x:x[1],reverse=True)\n",
    "print (sorted_dist)"
   ]
  },
  {
   "cell_type": "code",
   "execution_count": 102,
   "metadata": {},
   "outputs": [
    {
     "data": {
      "image/png": "[encoded data removed]",
      "text/plain": [
       "<Figure size 640x480 with 1 Axes>"
      ]
     },
     "metadata": {},
     "output_type": "display_data"
    },
    {
     "data": {
      "image/png": "[encoded data removed]",
      "text/plain": [
       "<Figure size 640x480 with 1 Axes>"
      ]
     },
     "metadata": {},
     "output_type": "display_data"
    },
    {
     "name": "stdout",
     "output_type": "stream",
     "text": [
      "JS Divergence of topic: 0.067295\n"
     ]
    }
   ],
   "source": [
    "\n",
    "\n",
    "arts = {\"2012\":[],\"2013\":[]}\n",
    "for i,article in enumerate(articles):\n",
    "    if article.date_publish is not None:\n",
    "        arts[str(article.date_publish.year)].append(corpus[i])\n",
    "\n",
    "def to_distro(dist):\n",
    "    ids, probs = list(dist.keys()), list(dist.values())\n",
    "    distro = dit.ScalarDistribution(ids, probs)\n",
    "    return distro\n",
    "\n",
    "def compare_topic_distributions(d1, d2):\n",
    "    X, Y = to_distro(d1), to_distro(d2)\n",
    "    return jensen_shannon_divergence([X,Y])\n",
    "    \n",
    "    \n",
    "dist2012 = total_topic_distribution(model, arts[\"2012\"])\n",
    "graph_distribution(dist2012)\n",
    "dist2013 = total_topic_distribution(model, arts[\"2013\"])\n",
    "graph_distribution(dist2013)\n",
    "\n",
    "jsd = compare_topic_distributions(dist2012, dist2013)\n",
    "print(\"JS Divergence of topic: %f\"%(jsd))"
   ]
  },
  {
   "cell_type": "code",
   "execution_count": null,
   "metadata": {},
   "outputs": [],
   "source": []
  }
 ],
 "metadata": {
  "kernelspec": {
   "display_name": "Python 3",
   "language": "python",
   "name": "python3"
  },
  "language_info": {
   "codemirror_mode": {
    "name": "ipython",
    "version": 3
   },
   "file_extension": ".py",
   "mimetype": "text/x-python",
   "name": "python",
   "nbconvert_exporter": "python",
   "pygments_lexer": "ipython3",
   "version": "3.7.2"
  }
 },
 "nbformat": 4,
 "nbformat_minor": 2
}
