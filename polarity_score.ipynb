{
 "cells": [
  {
   "cell_type": "code",
   "execution_count": 3,
   "metadata": {
    "collapsed": true
   },
   "outputs": [],
   "source": [
    "from importlib import reload\n",
    "import datetime\n",
    "\n",
    "import to_lexicon as lex\n",
    "reload(lex)\n",
    "\n",
    "import base_words\n",
    "reload(base_words)\n",
    "from base_words import *"
   ]
  },
  {
   "cell_type": "code",
   "execution_count": 4,
   "metadata": {},
   "outputs": [
    {
     "name": "stdout",
     "output_type": "stream",
     "text": [
      "finished grabbing articles\n"
     ]
    }
   ],
   "source": [
    "path = \"./NYT-OPINION2012-2013-processed\"\n",
    "\n",
    "start = datetime.datetime(2012, 6, 1)\n",
    "end = datetime.datetime(2013, 7, 1)\n",
    "\n",
    "articles = lex.get_articles_from_filepath(path, start, end)\n",
    "\n",
    "print (\"finished grabbing articles\")\n",
    "\n",
    "left_collocations = lex.get_collocations(articles, LEFT_WORDS, RIGHT_WORDS)\n",
    "right_collocations = lex.get_collocations(articles, RIGHT_WORDS, LEFT_WORDS)"
   ]
  },
  {
   "cell_type": "code",
   "execution_count": 14,
   "metadata": {},
   "outputs": [
    {
     "name": "stdout",
     "output_type": "stream",
     "text": [
      "clinton\n",
      "('tax', 'rate')\n",
      "('tax', 'cut')\n",
      "('tax', 'plan')\n",
      "('margin', 'tax')\n",
      "('rai', 'tax')\n",
      "('incom', 'tax')\n",
      "('tax', 'break')\n",
      "('let', 'tax')\n",
      "('tax', 'increa')\n",
      "('tax', 'depend')\n",
      "('modestli', 'tax')\n",
      "('street', 'tax')\n",
      "('question', 'tax')\n",
      "('tax', 'put')\n",
      "('tax', 'affluent')\n",
      "('relea', 'tax')\n",
      "('tax', 'return')\n",
      "('effect', 'tax')\n",
      "('cutback', 'tax')\n",
      "('corpor', 'tax')\n",
      "('make', 'tax')\n",
      "('press', 'tax')\n",
      "('tax', 'loophol')\n",
      "('littl', 'tax')\n",
      "('tax', 'bulk')\n",
      "('thu', 'tax')\n",
      "('tax', 'capit')\n",
      "('low', 'tax')\n",
      "('end', 'tax')\n",
      "('expo', 'tax')\n",
      "('tax', 'thu')\n",
      "('tax', 'get')\n",
      "('exten', 'tax')\n",
      "('tax', 'avoid')\n",
      "('tax', 'revenu')\n",
      "('signif', 'tax')\n",
      "('payrol', 'tax')\n",
      "('tax', 'mani')\n",
      "('tax', 'past')\n",
      "('polici', 'tax')\n",
      "('tax', 'dollar')\n",
      "('immigr', 'tax')\n",
      "('tax', 'thrive')\n",
      "('lower', 'tax')\n",
      "('tax', 'clear')\n",
      "('enough', 'tax')\n",
      "('tax', 'wor')\n",
      "('view', 'tax')\n",
      "('tax', 'much')\n",
      "('demand', 'tax')\n",
      "('cut', 'tax')\n",
      "('tax', 'right')\n",
      "('spite', 'tax')\n",
      "('incomprehen', 'tax')\n",
      "('tax', 'said')\n",
      "('everyon', 'tax')\n",
      "('essenti', 'tax')\n",
      "('tax', 'limit')\n",
      "('extend', 'tax')\n",
      "('compromi', 'tax')\n",
      "('tax', 'grow')\n",
      "('place', 'tax')\n",
      "('onslaught', 'tax')\n",
      "('local', 'tax')\n",
      "('tax', 'anoth')\n",
      "('broaden', 'tax')\n",
      "('tax', 'base')\n",
      "('tax', 'regular')\n",
      "('notion', 'tax')\n",
      "('chang', 'tax')\n",
      "('tax', 'code')\n"
     ]
    }
   ],
   "source": [
    "from collections import Counter\n",
    "from nltk import ngrams\n",
    "from nltk.stem.porter import *\n",
    "stemmer = PorterStemmer()\n",
    "\n",
    "months = [\"january\",\"february\",\"march\",\"april\",\"may\",\"june\",\"july\",\"august\",\"september\",\"october\",\"november\",\"december\"]\n",
    "\n",
    "words = left_collocations + right_collocations\n",
    "words = [stemmer.stem(word) for word in words]\n",
    "\n",
    "print (stemmer.stem(\"clinton\"))\n",
    "ngram_counts = Counter(ngrams(words, 2))\n",
    "counts = ngram_counts.most_common()\n",
    "\n",
    "for tup, c in counts:\n",
    "    if \"tax\" in tup:\n",
    "        print (tup)"
   ]
  },
  {
   "cell_type": "code",
   "execution_count": null,
   "metadata": {
    "collapsed": true
   },
   "outputs": [],
   "source": []
  }
 ],
 "metadata": {
  "kernelspec": {
   "display_name": "Python 3",
   "language": "python",
   "name": "python3"
  },
  "language_info": {
   "codemirror_mode": {
    "name": "ipython",
    "version": 3
   },
   "file_extension": ".py",
   "mimetype": "text/x-python",
   "name": "python",
   "nbconvert_exporter": "python",
   "pygments_lexer": "ipython3",
   "version": "3.7.1"
  }
 },
 "nbformat": 4,
 "nbformat_minor": 2
}
