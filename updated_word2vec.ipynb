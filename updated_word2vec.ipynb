{
 "cells": [
  {
   "cell_type": "code",
   "execution_count": 1,
   "metadata": {
    "collapsed": true
   },
   "outputs": [],
   "source": [
    "import datetime, os, re\n",
    "import pickle\n",
    "\n",
    "import nltk\n",
    "from nltk import tokenize\n",
    "from nltk.corpus import stopwords\n",
    "from nltk.corpus import wordnet as wn\n",
    "from nltk.stem.wordnet import WordNetLemmatizer\n",
    "\n",
    "import gensim\n",
    "from gensim import corpora\n",
    "from gensim.models import Phrases\n",
    "\n",
    "import datetime\n",
    "from newsplease import NewsPlease"
   ]
  },
  {
   "cell_type": "code",
   "execution_count": 2,
   "metadata": {
    "collapsed": true
   },
   "outputs": [],
   "source": [
    "## helper method to filter articles by date & length\n",
    "def get_relevant_articles(articles):\n",
    "\tfiltered_articles = []\n",
    "\tfor article in articles:\n",
    "\t\tif article.date_publish is not None:\n",
    "\t\t\tif article.date_publish < start or article.date_publish >= end:\n",
    "\t\t\t\tcontinue\n",
    "\t\tif article.text is None:\n",
    "\t\t\tcontinue\n",
    "\t\telif len(article.text.split()) <= 100:\n",
    "\t\t\tcontinue \n",
    "\t\tfiltered_articles.append(article)\n",
    "\treturn filtered_articles\n",
    "\n",
    "\n",
    "## helper method to retrieve articles from path\n",
    "def get_articles_from_filepath(path):\n",
    "\tarticles = []\n",
    "\tfor (dirpath, dirnames, filenames) in os.walk(path):\n",
    "\t\tfor filename in filenames:\n",
    "\t\t\tif filename.endswith(\".pkl\"):\n",
    "\t\t\t\tfilepath = os.path.join(dirpath, filename)\n",
    "\t\t\t\twith open(filepath, 'rb') as input_file:\n",
    "\t\t\t\t\te = pickle.load(input_file)\n",
    "\t\t\t\t\tarticles.append(e)\n",
    "\tfiltered_articles = get_relevant_articles(articles)\n",
    "\treturn filtered_articles"
   ]
  },
  {
   "cell_type": "code",
   "execution_count": 3,
   "metadata": {
    "collapsed": true
   },
   "outputs": [],
   "source": [
    "\n",
    "## helper method for text cleanup\n",
    "def text_cleanup(text):\n",
    "\tdef get_lemma(word):\n",
    "\t\treturn WordNetLemmatizer().lemmatize(word)\n",
    "\n",
    "\tstop_words = set(stopwords.words('english'))\n",
    "\tmonths = [\"january\",\"february\",\"march\",\"april\",\"may\",\"june\",\"july\",\"august\",\"september\",\"october\",\"november\",\"december\"]\n",
    "\n",
    "\ttokens = nltk.word_tokenize(text)\n",
    "\ttokens = [token for token in tokens if (token).isalpha() and len(token)>2]\n",
    "\ttokens = [token for token in tokens if token.lower() not in stop_words]\n",
    "\ttokens = [token for token in tokens if token.lower() not in months]\n",
    "\ttokens = [get_lemma(token) for token in tokens]\n",
    "\treturn tokens\n"
   ]
  },
  {
   "cell_type": "code",
   "execution_count": 6,
   "metadata": {},
   "outputs": [],
   "source": [
    "global start\n",
    "global end\n",
    "start = datetime.datetime(2012, 6, 1)\n",
    "end = datetime.datetime(2013, 7, 1)\n",
    "    \n",
    "articles = get_articles_from_filepath(\"Thesis-2019/\")"
   ]
  },
  {
   "cell_type": "code",
   "execution_count": 8,
   "metadata": {},
   "outputs": [
    {
     "data": {
      "text/plain": [
       "(1196499, 1591400)"
      ]
     },
     "execution_count": 8,
     "metadata": {},
     "output_type": "execute_result"
    }
   ],
   "source": [
    "docs = []\n",
    "for article in articles:\n",
    "    sentences = tokenize.sent_tokenize(article.text)\n",
    "    sentences = [gensim.utils.simple_preprocess(s) for s in sentences]\n",
    "    docs += sentences\n",
    "\n",
    "model = gensim.models.Word2Vec(\n",
    "    docs,\n",
    "    size=150,\n",
    "    window=10,\n",
    "    min_count=2,\n",
    "    workers=10)\n",
    "\n",
    "model.train(docs, total_examples=len(docs), epochs=10)"
   ]
  },
  {
   "cell_type": "code",
   "execution_count": 10,
   "metadata": {},
   "outputs": [
    {
     "data": {
      "text/plain": [
       "[('romney', 0.9185003638267517),\n",
       " ('karzai', 0.887995183467865),\n",
       " ('bush', 0.83978670835495),\n",
       " ('mitt', 0.8270744681358337),\n",
       " ('sucked', 0.8187577724456787),\n",
       " ('outrageous', 0.8186334371566772),\n",
       " ('venizelos', 0.8179527521133423),\n",
       " ('signaled', 0.8080883026123047),\n",
       " ('party', 0.8036176562309265),\n",
       " ('verrilli', 0.7991970181465149),\n",
       " ('clinton', 0.7894609570503235),\n",
       " ('republican', 0.7821438908576965),\n",
       " ('messina', 0.7807579636573792),\n",
       " ('campaign', 0.7807223796844482),\n",
       " ('relentless', 0.7764478325843811),\n",
       " ('barden', 0.7763988971710205),\n",
       " ('abbas', 0.775560736656189),\n",
       " ('gerald', 0.774519681930542),\n",
       " ('myanmar', 0.774312436580658),\n",
       " ('term', 0.7719337940216064)]"
      ]
     },
     "execution_count": 10,
     "metadata": {},
     "output_type": "execute_result"
    }
   ],
   "source": [
    "model.wv.most_similar(positive=\"obama\",topn=20)"
   ]
  },
  {
   "cell_type": "code",
   "execution_count": 12,
   "metadata": {},
   "outputs": [
    {
     "data": {
      "text/plain": [
       "[('obama', 0.9185003638267517),\n",
       " ('mitt', 0.9115840196609497),\n",
       " ('mr', 0.8750324845314026),\n",
       " ('sucked', 0.8718211650848389),\n",
       " ('presidency', 0.8685856461524963),\n",
       " ('bush', 0.8644351363182068),\n",
       " ('karzai', 0.8534864783287048),\n",
       " ('underscore', 0.8522833585739136),\n",
       " ('venizelos', 0.8520539402961731),\n",
       " ('clinton', 0.8518027067184448),\n",
       " ('campaign', 0.8389893770217896),\n",
       " ('shalit', 0.8386415839195251),\n",
       " ('verrilli', 0.8340803980827332),\n",
       " ('probability', 0.8307307362556458),\n",
       " ('existed', 0.8305507898330688),\n",
       " ('barden', 0.8277979493141174),\n",
       " ('messina', 0.8234184384346008),\n",
       " ('govern', 0.819625198841095),\n",
       " ('clement', 0.8174552321434021),\n",
       " ('vote', 0.8162410259246826)]"
      ]
     },
     "execution_count": 12,
     "metadata": {},
     "output_type": "execute_result"
    }
   ],
   "source": [
    "model.wv.most_similar(positive=\"romney\",topn=20)"
   ]
  },
  {
   "cell_type": "code",
   "execution_count": 20,
   "metadata": {},
   "outputs": [
    {
     "data": {
      "text/plain": [
       "[('deciders', 0.9504735469818115),\n",
       " ('gallup', 0.9487624168395996),\n",
       " ('polls', 0.9483890533447266),\n",
       " ('pathway', 0.9469236731529236),\n",
       " ('electorate', 0.946081817150116),\n",
       " ('pacs', 0.9433695077896118),\n",
       " ('vigorous', 0.9410778284072876),\n",
       " ('younger', 0.940981388092041),\n",
       " ('voters', 0.9366654753684998),\n",
       " ('houses', 0.9321030378341675),\n",
       " ('slightly', 0.9306408166885376),\n",
       " ('populists', 0.9294018149375916),\n",
       " ('fewer', 0.9267346858978271),\n",
       " ('reach', 0.9257991909980774),\n",
       " ('vitriol', 0.9257526993751526),\n",
       " ('clearer', 0.924370527267456),\n",
       " ('republicans', 0.9223094582557678),\n",
       " ('undecided', 0.9216620326042175),\n",
       " ('latino', 0.9211448431015015),\n",
       " ('bullish', 0.9207743406295776),\n",
       " ('choosing', 0.9191440343856812),\n",
       " ('points', 0.9188754558563232),\n",
       " ('certainly', 0.9181658625602722),\n",
       " ('away', 0.9180541634559631),\n",
       " ('politically', 0.9175894260406494),\n",
       " ('repair', 0.9169368743896484),\n",
       " ('independents', 0.9162728190422058),\n",
       " ('demanding', 0.9147025346755981),\n",
       " ('votes', 0.914176344871521),\n",
       " ('disagree', 0.9135017395019531),\n",
       " ('pride', 0.9110146760940552),\n",
       " ('run', 0.9105179905891418),\n",
       " ('evolving', 0.9102076888084412),\n",
       " ('win', 0.9101081490516663),\n",
       " ('frustrated', 0.9090170860290527),\n",
       " ('taxes', 0.9088022708892822),\n",
       " ('probability', 0.908498227596283),\n",
       " ('even', 0.9084571599960327),\n",
       " ('argue', 0.9079633355140686),\n",
       " ('offerings', 0.9066988825798035),\n",
       " ('match', 0.9063350558280945),\n",
       " ('groceries', 0.906152069568634),\n",
       " ('swinging', 0.9050979018211365),\n",
       " ('negotiate', 0.9037819504737854),\n",
       " ('longer', 0.9036750793457031),\n",
       " ('blacks', 0.9036049246788025),\n",
       " ('stature', 0.9034925103187561),\n",
       " ('decisive', 0.903355598449707),\n",
       " ('projections', 0.9031487107276917),\n",
       " ('far', 0.9029876589775085)]"
      ]
     },
     "execution_count": 20,
     "metadata": {},
     "output_type": "execute_result"
    }
   ],
   "source": [
    "model.wv.most_similar(positive=\"democrats\",topn=50)"
   ]
  },
  {
   "cell_type": "code",
   "execution_count": 21,
   "metadata": {},
   "outputs": [
    {
     "data": {
      "text/plain": [
       "[('probability', 0.9417006373405457),\n",
       " ('democrats', 0.9223093390464783),\n",
       " ('vote', 0.9072288870811462),\n",
       " ('even', 0.902953565120697),\n",
       " ('leaning', 0.8940107822418213),\n",
       " ('wed', 0.8919506669044495),\n",
       " ('persuasive', 0.8892962336540222),\n",
       " ('voters', 0.8805223703384399),\n",
       " ('far', 0.8795624375343323),\n",
       " ('disagree', 0.8720409274101257),\n",
       " ('polls', 0.8718546628952026),\n",
       " ('win', 0.8590664267539978),\n",
       " ('estrada', 0.8581550717353821),\n",
       " ('choosing', 0.8504106402397156),\n",
       " ('negotiate', 0.8498350977897644),\n",
       " ('reach', 0.8483158946037292),\n",
       " ('signaled', 0.8472540378570557),\n",
       " ('gallup', 0.8452020883560181),\n",
       " ('frustrated', 0.8431543111801147),\n",
       " ('nowhere', 0.8418095707893372),\n",
       " ('childish', 0.8413732647895813),\n",
       " ('run', 0.8369129300117493),\n",
       " ('politically', 0.836152195930481),\n",
       " ('clear', 0.8360646367073059),\n",
       " ('govern', 0.8357300758361816),\n",
       " ('still', 0.8354736566543579),\n",
       " ('presidency', 0.832348108291626),\n",
       " ('repair', 0.8321173191070557),\n",
       " ('say', 0.8303933143615723),\n",
       " ('electorate', 0.8276500701904297),\n",
       " ('pollsters', 0.8269034028053284),\n",
       " ('transplanted', 0.8258876204490662),\n",
       " ('heads', 0.8253795504570007),\n",
       " ('deciders', 0.8252378106117249),\n",
       " ('voted', 0.8246736526489258),\n",
       " ('evolving', 0.8228843808174133),\n",
       " ('loses', 0.8194561004638672),\n",
       " ('yet', 0.8187318444252014),\n",
       " ('sarah', 0.8184022903442383),\n",
       " ('blacks', 0.8181346654891968),\n",
       " ('short', 0.8162932991981506),\n",
       " ('existed', 0.8151812553405762),\n",
       " ('romney', 0.8145829439163208),\n",
       " ('pacs', 0.8094794750213623),\n",
       " ('slightly', 0.808865487575531),\n",
       " ('shrift', 0.8087161779403687),\n",
       " ('paint', 0.8080971837043762),\n",
       " ('populists', 0.8080574870109558),\n",
       " ('elected', 0.8073216080665588),\n",
       " ('longer', 0.8069710731506348)]"
      ]
     },
     "execution_count": 21,
     "metadata": {},
     "output_type": "execute_result"
    }
   ],
   "source": [
    "model.wv.most_similar(positive=\"republicans\",topn=50)"
   ]
  },
  {
   "cell_type": "code",
   "execution_count": 23,
   "metadata": {},
   "outputs": [
    {
     "data": {
      "text/plain": [
       "[('conservatives', 0.9893098473548889),\n",
       " ('slower', 0.9802690148353577),\n",
       " ('peers', 0.9750739336013794),\n",
       " ('alternatives', 0.9726169109344482),\n",
       " ('divide', 0.9720026850700378),\n",
       " ('ideas', 0.9679479002952576),\n",
       " ('assimilation', 0.9660034775733948),\n",
       " ('already', 0.9657910466194153),\n",
       " ('populists', 0.9656911492347717),\n",
       " ('looted', 0.9656208753585815),\n",
       " ('whom', 0.9648095369338989),\n",
       " ('hurt', 0.963603675365448),\n",
       " ('disappeared', 0.9625953435897827),\n",
       " ('away', 0.9624364972114563),\n",
       " ('suspect', 0.962234616279602),\n",
       " ('vitriol', 0.9591072797775269),\n",
       " ('judging', 0.9586976766586304),\n",
       " ('definitely', 0.9586789011955261),\n",
       " ('persuade', 0.9582372903823853),\n",
       " ('topic', 0.9582177996635437)]"
      ]
     },
     "execution_count": 23,
     "metadata": {},
     "output_type": "execute_result"
    }
   ],
   "source": [
    "model.wv.most_similar(positive=\"liberals\",topn=20)"
   ]
  },
  {
   "cell_type": "code",
   "execution_count": 26,
   "metadata": {},
   "outputs": [
    {
     "data": {
      "text/plain": [
       "[('young', 0.9602299928665161),\n",
       " ('among', 0.9573314189910889),\n",
       " ('adopters', 0.9525433778762817),\n",
       " ('fastest', 0.9495570063591003),\n",
       " ('hispanics', 0.9479889869689941),\n",
       " ('african', 0.9436430931091309),\n",
       " ('asian', 0.9426509141921997),\n",
       " ('percentage', 0.9414992332458496),\n",
       " ('compared', 0.9388124942779541),\n",
       " ('invested', 0.9370081424713135),\n",
       " ('usage', 0.9332296848297119),\n",
       " ('majority', 0.9313706159591675),\n",
       " ('cases', 0.9293162822723389),\n",
       " ('overweight', 0.9284192323684692),\n",
       " ('population', 0.9270365834236145),\n",
       " ('thousands', 0.9249094128608704),\n",
       " ('diagnoses', 0.9247716069221497),\n",
       " ('resonates', 0.9236060380935669),\n",
       " ('illicit', 0.9211124777793884),\n",
       " ('incapable', 0.9196344614028931)]"
      ]
     },
     "execution_count": 26,
     "metadata": {},
     "output_type": "execute_result"
    }
   ],
   "source": [
    "model.wv.most_similar(positive=\"men\",topn=20)"
   ]
  },
  {
   "cell_type": "code",
   "execution_count": 37,
   "metadata": {},
   "outputs": [
    {
     "data": {
      "text/plain": [
       "[('supporters', 0.9827489256858826),\n",
       " ('whiter', 0.9759966135025024),\n",
       " ('construction', 0.9670623540878296),\n",
       " ('moms', 0.9666427373886108),\n",
       " ('tied', 0.966031551361084),\n",
       " ('photos', 0.9646417498588562),\n",
       " ('devised', 0.9640914797782898),\n",
       " ('juvenile', 0.9606707692146301),\n",
       " ('narrow', 0.958895206451416),\n",
       " ('afghanistan', 0.9559107422828674),\n",
       " ('assigned', 0.9558216333389282),\n",
       " ('premises', 0.9557905197143555),\n",
       " ('jesse', 0.9557439088821411),\n",
       " ('antonio', 0.9552028179168701),\n",
       " ('castro', 0.9544353485107422),\n",
       " ('alienating', 0.954036295413971),\n",
       " ('franklin', 0.9537797570228577),\n",
       " ('featuring', 0.9535329937934875),\n",
       " ('roosevelt', 0.9532613754272461),\n",
       " ('foreign', 0.953176736831665)]"
      ]
     },
     "execution_count": 37,
     "metadata": {},
     "output_type": "execute_result"
    }
   ],
   "source": [
    "model.wv.most_similar(positive=\"white\",topn=20)"
   ]
  },
  {
   "cell_type": "code",
   "execution_count": null,
   "metadata": {
    "collapsed": true
   },
   "outputs": [],
   "source": []
  }
 ],
 "metadata": {
  "kernelspec": {
   "display_name": "Python 3",
   "language": "python",
   "name": "python3"
  },
  "language_info": {
   "codemirror_mode": {
    "name": "ipython",
    "version": 3
   },
   "file_extension": ".py",
   "mimetype": "text/x-python",
   "name": "python",
   "nbconvert_exporter": "python",
   "pygments_lexer": "ipython3",
   "version": "3.7.1"
  }
 },
 "nbformat": 4,
 "nbformat_minor": 2
}
