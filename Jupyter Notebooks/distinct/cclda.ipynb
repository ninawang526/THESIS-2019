{
 "cells": [
  {
   "cell_type": "code",
   "execution_count": 7,
   "metadata": {},
   "outputs": [],
   "source": [
    "import csv\n",
    "import pandas as pd\n",
    "import THESIS2019.PART1.TopicModel.STM.stm as stm\n",
    "from THESIS2019.utils.base_words import *\n",
    "from THESIS2019.utils.get_articles import *"
   ]
  },
  {
   "cell_type": "code",
   "execution_count": 63,
   "metadata": {},
   "outputs": [],
   "source": [
    "datapath = \"/Users/ninawang/Thesis/remote/THESIS2019/example_data/\"\n",
    "outlets = [\"BREITBART\", \"NYT-OPINION\", \"CNN\"]#,\"FOX\",\"MSN\",\"NATIONALREVIEW\",\"NPR\",\"REUTERS-POLITICS\",\"SLATE\",\"WASHINGTONEXAMINER\"]\n"
   ]
  },
  {
   "cell_type": "code",
   "execution_count": 64,
   "metadata": {},
   "outputs": [],
   "source": [
    "articles = get_articles_outlets(datapath,outlets,2012)"
   ]
  },
  {
   "cell_type": "code",
   "execution_count": 65,
   "metadata": {},
   "outputs": [
    {
     "name": "stdout",
     "output_type": "stream",
     "text": [
      "3\n"
     ]
    }
   ],
   "source": [
    "print(len(articles))"
   ]
  },
  {
   "cell_type": "code",
   "execution_count": 66,
   "metadata": {},
   "outputs": [
    {
     "name": "stdout",
     "output_type": "stream",
     "text": [
      "adding BREITBART2012-2013 to csv\n",
      "adding NYT-OPINION2012-2013 to csv\n",
      "adding CNN2012-2013 to csv\n"
     ]
    }
   ],
   "source": [
    "filename = \"stm_data_media_outlet.csv\"\n",
    "stm.to_csv_media_outlet(filename, articles, LEFT_WORDS, RIGHT_WORDS)\n"
   ]
  },
  {
   "cell_type": "code",
   "execution_count": 70,
   "metadata": {},
   "outputs": [],
   "source": [
    "# print(df.iloc[0]) #iloc to select row 0\n",
    "# print(df.loc[:,\"docname\"]) #loc to select row\n",
    "\n",
    "def get_outlet_ind(outlets, row_outlet):\n",
    "    for ind, outlet in enumerate(outlets):\n",
    "        if outlet in row_outlet:\n",
    "            return ind\n",
    "            \n",
    "def to_cclda(df, outlets, filename):    \n",
    "    with open(filename,\"w\") as f:\n",
    "        for index, row in df.iterrows():\n",
    "            ind = get_outlet_ind(outlets, row[\"outlet\"])\n",
    "            f.write(\"%d %s\\n\" %(ind, row[\"documents\"]))\n",
    "\n",
    "df = pd.read_csv(filename)\n",
    "to_cclda(df, outlets, \"cclda.txt\")"
   ]
  },
  {
   "cell_type": "code",
   "execution_count": 71,
   "metadata": {
    "scrolled": true
   },
   "outputs": [
    {
     "name": "stdout",
     "output_type": "stream",
     "text": [
      "2 day best coverag part sunday inaugur weekend kick sunday take part privat ceremoni white hous morn candi crowley anchor edit state union nation mall follow live coverag lead wolf blitzer anderson cooper sure catch edit pier morgan tonight night best coverag part monday stay tune extens coverag second inaugur monday morn start earli start berman zoraida sambolin start point soledad brien anchor wolf blitzer anderson cooper king dozen correspond analyst contributor bring sight sound public inaugur parad day pier morgan erin burnett inaugur ball take festiv ball celebr night crowd shot instagram instagram team multimedia look crowd gather inaugur ceremoni network invit peopl attend inaugur event take photo post instagram hashtag photo display interact visual angl correspond anchor report live end pennsylvania avenu inaugur day mall situat room wolf blitzer live lafayett park white hous anderson cooper anchor network coverag mall soledad join berman kate bolduan jessica yellin capitol set watch live onlin televis inaugur stream event parad live high qualiti fee best screen nearli camera field crew deploy mall parad rout white hous locat sunday monday includ mile cabl fiber optic run nearli dozen differ wireless captur transmiss technolog get live signal back million viewer worldwid facebook social network partner facebook surfac viral moment photo term inaugur spread world largest social network ask viewer facebook identifi rate react viral moment happen live blog polit ticker team ongo discuss event surround inaugur weekend real includ latest event key quot notabl tweet day well chanc take part interact convers involv trivia poll social media hand deck nearli dozen digit journalist photograph report mall parad rout lafayett park send report photo mobil platform mobil inaugur hand digit experi latest app io android window phone optim user mobil websit cnnpolit twitter keep date import moment follow cnnpolit twitter fun hln sister network hln focu peopl polici inaugur monday morn express host robin mead anchor nation capit report hln smith kyra phillip provid live coverag day event bring world intern simulcast domest program español live start café hour actualidad vivo network carri inaugur ceremoni parad live español afternoon newscast nuestro mundo directo usa panorama mundial conclusion broadcast live washington\n",
      "\n"
     ]
    }
   ],
   "source": [
    "with open(\"cclda.txt\",\"r\") as f:\n",
    "    txt = f.readlines()\n",
    "print(txt[500])"
   ]
  },
  {
   "cell_type": "code",
   "execution_count": null,
   "metadata": {},
   "outputs": [],
   "source": []
  }
 ],
 "metadata": {
  "kernelspec": {
   "display_name": "Python 3",
   "language": "python",
   "name": "python3"
  },
  "language_info": {
   "codemirror_mode": {
    "name": "ipython",
    "version": 3
   },
   "file_extension": ".py",
   "mimetype": "text/x-python",
   "name": "python",
   "nbconvert_exporter": "python",
   "pygments_lexer": "ipython3",
   "version": "3.7.2"
  }
 },
 "nbformat": 4,
 "nbformat_minor": 2
}
