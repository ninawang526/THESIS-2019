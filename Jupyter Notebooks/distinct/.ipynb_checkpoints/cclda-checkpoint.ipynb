{
 "cells": [
  {
   "cell_type": "code",
   "execution_count": 7,
   "metadata": {},
   "outputs": [],
   "source": [
    "import csv\n",
    "import pandas as pd\n",
    "import THESIS2019.PART1.TopicModel.STM.stm as stm\n",
    "from THESIS2019.utils.base_words import *\n",
    "from THESIS2019.utils.get_articles import *"
   ]
  },
  {
   "cell_type": "code",
   "execution_count": 8,
   "metadata": {},
   "outputs": [],
   "source": [
    "datapath = \"/Users/ninawang/Thesis/remote/THESIS2019/example_data/\"\n",
    "outlets = [\"NYT-OPINION\",\"BREITBART\"]#, \"CNN\", \"FOX\",\"MSN\",\"NATIONALREVIEW\",\"NPR\",\"REUTERS-POLITICS\",\"SLATE\",\"WASHINGTONEXAMINER\"]\n"
   ]
  },
  {
   "cell_type": "code",
   "execution_count": 9,
   "metadata": {},
   "outputs": [],
   "source": [
    "articles = get_articles_outlets(datapath,outlets,2012)"
   ]
  },
  {
   "cell_type": "code",
   "execution_count": 10,
   "metadata": {},
   "outputs": [
    {
     "name": "stdout",
     "output_type": "stream",
     "text": [
      "2\n"
     ]
    }
   ],
   "source": [
    "print(len(articles))"
   ]
  },
  {
   "cell_type": "code",
   "execution_count": 11,
   "metadata": {},
   "outputs": [
    {
     "name": "stdout",
     "output_type": "stream",
     "text": [
      "adding NYT-OPINION2012-2013 to csv\n",
      "adding BREITBART2012-2013 to csv\n"
     ]
    }
   ],
   "source": [
    "filename = \"stm_data_media_outlet.csv\"\n",
    "stm.to_csv_media_outlet(filename, articles, LEFT_WORDS, RIGHT_WORDS)\n"
   ]
  },
  {
   "cell_type": "code",
   "execution_count": 60,
   "metadata": {},
   "outputs": [],
   "source": [
    "# print(df.iloc[0]) #iloc to select row 0\n",
    "# print(df.loc[:,\"docname\"]) #loc to select row\n",
    "\n",
    "def get_outlet_ind(outlets, row_outlet):\n",
    "    for ind, outlet in enumerate(outlets):\n",
    "        if outlet in row_outlet:\n",
    "            return ind\n",
    "            \n",
    "def to_cclda(df, outlets, filename):    \n",
    "    with open(filename,\"w\") as f:\n",
    "        for index, row in df.iterrows():\n",
    "            ind = get_outlet_ind(outlets, row[\"outlet\"])\n",
    "            f.write(\"%d %s\\n\" %(ind, row[\"documents\"]))\n",
    "\n",
    "df = pd.read_csv(filename)\n",
    "to_cclda(df, outlets, \"cclda.txt\")"
   ]
  },
  {
   "cell_type": "code",
   "execution_count": 62,
   "metadata": {
    "scrolled": true
   },
   "outputs": [
    {
     "name": "stdout",
     "output_type": "stream",
     "text": [
      "0 santa monica daughter yael call tel aviv fine bite scar watch home afraid brave soul first bomb shelter yesterday famili rocket fire troubl part life person experi last tel aviv fire first gulf war back much chang first take refug bomb shelter mayb way adult explain thing children get first lesson middl east instabl age yael outset war seek refug shelter parent hous jerusalem noth much tell experi siren loud hous minut walk blare tower radio tell lie war progress today broadcast tend accur critic isra govern militari go shelter stay half hour mayb rememb anymor go back home play toy father call reserv duti take uniform go coupl week come back much chang mayb way adult explain thing children recal ever tell day war peac rememb hope fifth grade peac treati egypt earli oslo accord israel palestinian ceremoni celebr rise garden make live understand analyz event current erupt violenc gaza make live explain best hope today end yet anoth cycl violenc yet anoth fragil lie children tell violent skirmish outlier event norm go shelter becom norm sure reach age youngest get solac believ david makovski put situat gaza inher relat global opinion conflict away gaza clash remind second term deal israel palestin children lucki one live tel aviv israel southern town isra children includ children friend experi rocket fire much frequent lucki one live mighti israel gaza palestinian children lion share violenc yet lucki tell rocket threat futur absent father rush nearest shop mall get extra present least youngest one anoth gift make night shelter seem worthwhil\n",
      "\n"
     ]
    }
   ],
   "source": [
    "with open(\"cclda.txt\",\"r\") as f:\n",
    "    txt = f.readlines()\n",
    "print(txt[0])"
   ]
  },
  {
   "cell_type": "code",
   "execution_count": null,
   "metadata": {},
   "outputs": [],
   "source": []
  }
 ],
 "metadata": {
  "kernelspec": {
   "display_name": "Python 3",
   "language": "python",
   "name": "python3"
  },
  "language_info": {
   "codemirror_mode": {
    "name": "ipython",
    "version": 3
   },
   "file_extension": ".py",
   "mimetype": "text/x-python",
   "name": "python",
   "nbconvert_exporter": "python",
   "pygments_lexer": "ipython3",
   "version": "3.7.2"
  }
 },
 "nbformat": 4,
 "nbformat_minor": 2
}
