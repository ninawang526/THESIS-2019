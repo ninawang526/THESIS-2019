{
 "cells": [
  {
   "cell_type": "code",
   "execution_count": 33,
   "metadata": {},
   "outputs": [],
   "source": [
    "from scattertext.termcompaction.CompactTerms import CompactTerms\n",
    "\n",
    "import scattertext as st\n",
    "from scattertext import LogOddsRatioInformativeDirichletPrior\n",
    "\n",
    "import numpy as np\n",
    "from scipy.sparse import csr_matrix\n",
    "import pandas as pd\n",
    "from scattertext.TermDocMatrix import TermDocMatrix\n",
    "from scattertext.indexstore import IndexStore, IndexStoreFromList\n",
    "from IPython.display import IFrame"
   ]
  },
  {
   "cell_type": "code",
   "execution_count": null,
   "metadata": {
    "collapsed": true
   },
   "outputs": [],
   "source": [
    "with open ('left_collocations_article.pkl', 'rb') as fp:\n",
    "    left_collocations_article = pickle.load(fp)\n",
    "with open ('right_collocations_article.pkl', 'rb') as fp:\n",
    "    right_collocations_article = pickle.load(fp)\n",
    "\n",
    "# turn collocations into ngrams\n",
    "NGRAMS = 2\n",
    "\n",
    "ll, left_ngrams_article, left_ngrams_by_article = collocations_to_ngrams(left_collocations_article, NGRAMS)\n",
    "rl, right_ngrams_article, right_ngrams_by_article = collocations_to_ngrams(right_collocations_article, NGRAMS)\n"
   ]
  },
  {
   "cell_type": "code",
   "execution_count": 35,
   "metadata": {},
   "outputs": [
    {
     "name": "stdout",
     "output_type": "stream",
     "text": [
      "<class 'pandas.core.frame.DataFrame'>\n",
      "Positive    2455\n",
      "Negative    2411\n",
      "Plot         156\n",
      "Name: category_name, dtype: int64\n"
     ]
    },
    {
     "data": {
      "text/html": [
       "<div>\n",
       "<style scoped>\n",
       "    .dataframe tbody tr th:only-of-type {\n",
       "        vertical-align: middle;\n",
       "    }\n",
       "\n",
       "    .dataframe tbody tr th {\n",
       "        vertical-align: top;\n",
       "    }\n",
       "\n",
       "    .dataframe thead th {\n",
       "        text-align: right;\n",
       "    }\n",
       "</style>\n",
       "<table border=\"1\" class=\"dataframe\">\n",
       "  <thead>\n",
       "    <tr style=\"text-align: right;\">\n",
       "      <th></th>\n",
       "      <th>text</th>\n",
       "      <th>movie_name</th>\n",
       "      <th>category_name</th>\n",
       "    </tr>\n",
       "  </thead>\n",
       "  <tbody>\n",
       "    <tr>\n",
       "      <th>0</th>\n",
       "      <td>A senior at an elite college (Katie Holmes), a...</td>\n",
       "      <td>abandon</td>\n",
       "      <td>Plot</td>\n",
       "    </tr>\n",
       "    <tr>\n",
       "      <th>1</th>\n",
       "      <td>Will Lightman is a hip Londoner who one day re...</td>\n",
       "      <td>about_a_boy</td>\n",
       "      <td>Plot</td>\n",
       "    </tr>\n",
       "    <tr>\n",
       "      <th>2</th>\n",
       "      <td>Warren Schmidt (Nicholson) is forced to deal w...</td>\n",
       "      <td>about_schmidt</td>\n",
       "      <td>Plot</td>\n",
       "    </tr>\n",
       "    <tr>\n",
       "      <th>3</th>\n",
       "      <td>An account of screenwriter Charlie Kaufman's (...</td>\n",
       "      <td>adaptation</td>\n",
       "      <td>Plot</td>\n",
       "    </tr>\n",
       "    <tr>\n",
       "      <th>4</th>\n",
       "      <td>Ali G unwittingly becomes a pawn in the evil C...</td>\n",
       "      <td>ali_g_indahouse</td>\n",
       "      <td>Plot</td>\n",
       "    </tr>\n",
       "  </tbody>\n",
       "</table>\n",
       "</div>"
      ],
      "text/plain": [
       "                                                text       movie_name  \\\n",
       "0  A senior at an elite college (Katie Holmes), a...          abandon   \n",
       "1  Will Lightman is a hip Londoner who one day re...      about_a_boy   \n",
       "2  Warren Schmidt (Nicholson) is forced to deal w...    about_schmidt   \n",
       "3  An account of screenwriter Charlie Kaufman's (...       adaptation   \n",
       "4  Ali G unwittingly becomes a pawn in the evil C...  ali_g_indahouse   \n",
       "\n",
       "  category_name  \n",
       "0          Plot  \n",
       "1          Plot  \n",
       "2          Plot  \n",
       "3          Plot  \n",
       "4          Plot  "
      ]
     },
     "execution_count": 35,
     "metadata": {},
     "output_type": "execute_result"
    }
   ],
   "source": [
    "rdf = st.SampleCorpora.RottenTomatoes.get_data()\n",
    "\n",
    "print (type(rdf))\n",
    "\n",
    "rdf['category_name'] = rdf['category'].apply(lambda x: {'plot': 'Plot', 'rotten': 'Negative', 'fresh': 'Positive'}[x])\n",
    "print(rdf.category_name.value_counts())\n",
    "rdf[['text', 'movie_name', 'category_name']].head()"
   ]
  },
  {
   "cell_type": "code",
   "execution_count": 29,
   "metadata": {},
   "outputs": [],
   "source": [
    "corpus = (st.CorpusFromPandas(rdf, \n",
    "                              category_col='category_name', \n",
    "                              text_col='text',\n",
    "                              nlp = st.whitespace_nlp_with_sentences)\n",
    "          .build())\n",
    "corpus.get_term_freq_df().to_csv('term_freqs.csv')\n",
    "unigram_corpus = corpus.get_unigram_corpus()"
   ]
  },
  {
   "cell_type": "code",
   "execution_count": 34,
   "metadata": {},
   "outputs": [
    {
     "data": {
      "text/html": [
       "\n",
       "        <iframe\n",
       "            width=\"1300\"\n",
       "            height=\"700\"\n",
       "            src=\"rotten_fresh_loridp.html\"\n",
       "            frameborder=\"0\"\n",
       "            allowfullscreen\n",
       "        ></iframe>\n",
       "        "
      ],
      "text/plain": [
       "<IPython.lib.display.IFrame at 0x11a53bfd0>"
      ]
     },
     "execution_count": 34,
     "metadata": {},
     "output_type": "execute_result"
    }
   ],
   "source": [
    "priors = (st.PriorFactory(unigram_corpus, \n",
    "                          category='Positive', \n",
    "                          not_categories=['Negative'],\n",
    "                          starting_count=0.01)\n",
    "          .use_neutral_categories()\n",
    "          .get_priors())\n",
    "class LogOddsRatioSmoothedZScorePrior:\n",
    "    def __init__(self, prior, prior_scale):\n",
    "        self.prior = prior\n",
    "        self.prior_scale = prior_scale\n",
    "    def get_scores(self, a, b): \n",
    "        ap = a + self.prior * self.prior_scale*sum(a)/sum(self.prior.values)\n",
    "        bp = b + self.prior * self.prior_scale*sum(b)/sum(self.prior.values)\n",
    "        lor = (np.log(ap/(np.sum(ap) - ap)) - np.log(bp/(np.sum(bp) - bp)))\n",
    "        lorstd = 1./ap + 1./(np.sum(ap) - ap) + 1./bp + 1./(np.sum(bp) - bp)\n",
    "        return lor/np.sqrt(lorstd)\n",
    "        \n",
    "    def get_name(self): \n",
    "        return 'Log-Odds-Ratio w/ Informative Dirichlet Prior Z-Score'\n",
    "html = st.produce_fightin_words_explorer(\n",
    "    unigram_corpus,\n",
    "    category='Positive',\n",
    "    not_category_name='Negative',\n",
    "    not_categories=['Negative'],\n",
    "    #term_scorer=LogOddsRatioSmoothedZScorePrior(priors, 10, ),\n",
    "    # Equivalent:\n",
    "    term_scorer=st.LogOddsRatioInformativeDirichletPrior(priors, 10, 'class-size'),    \n",
    "    metadata = rdf['movie_name']\n",
    ")\n",
    "file_name = 'rotten_fresh_loridp.html'\n",
    "open(file_name, 'wb').write(html.encode('utf-8'))\n",
    "IFrame(src=file_name, width = 1300, height=700)"
   ]
  },
  {
   "cell_type": "code",
   "execution_count": null,
   "metadata": {
    "collapsed": true
   },
   "outputs": [],
   "source": []
  }
 ],
 "metadata": {
  "kernelspec": {
   "display_name": "Python 3",
   "language": "python",
   "name": "python3"
  },
  "language_info": {
   "codemirror_mode": {
    "name": "ipython",
    "version": 3
   },
   "file_extension": ".py",
   "mimetype": "text/x-python",
   "name": "python",
   "nbconvert_exporter": "python",
   "pygments_lexer": "ipython3",
   "version": "3.7.1"
  }
 },
 "nbformat": 4,
 "nbformat_minor": 2
}
